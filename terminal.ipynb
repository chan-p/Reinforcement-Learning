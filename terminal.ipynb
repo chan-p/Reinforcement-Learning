{
 "cells": [
  {
   "cell_type": "code",
   "execution_count": 10,
   "metadata": {},
   "outputs": [
    {
     "name": "stdout",
     "output_type": "stream",
     "text": [
      "1.23.0\n"
     ]
    }
   ],
   "source": [
    "import chainer\n",
    "\n",
    "print(chainer.__version__)"
   ]
  },
  {
   "cell_type": "code",
   "execution_count": 50,
   "metadata": {},
   "outputs": [
    {
     "name": "stdout",
     "output_type": "stream",
     "text": [
      "418.8093030452728\n"
     ]
    }
   ],
   "source": [
    "import numpy as np\n",
    "from chainer import cuda\n",
    "import time\n",
    "start = time.time()\n",
    "xp = cuda.cupy\n",
    "a = xp.array([1,2,1,1,10])\n",
    "for i in range(1000000):\n",
    "    b = xp.array([-1,2,-1,i,-1])\n",
    "    # xp.linalg.norm(a-c)\n",
    "    xp.sqrt(1/(1+xp.power(a-c, 2).sum()))\n",
    "print(str(time.time()-start))"
   ]
  },
  {
   "cell_type": "code",
   "execution_count": null,
   "metadata": {},
   "outputs": [
    {
     "name": "stdout",
     "output_type": "stream",
     "text": [
      "Username for 'https://github.com': "
     ]
    }
   ],
   "source": [
    "!git push origin master"
   ]
  },
  {
   "cell_type": "code",
   "execution_count": null,
   "metadata": {
    "collapsed": true
   },
   "outputs": [],
   "source": []
  },
  {
   "cell_type": "code",
   "execution_count": 51,
   "metadata": {},
   "outputs": [
    {
     "name": "stdout",
     "output_type": "stream",
     "text": [
      "196.42591428756714\n"
     ]
    }
   ],
   "source": [
    "import scipy.spatial.distance as dis\n",
    "start = time.time()\n",
    "xp = cuda.cupy\n",
    "a = xp.array([1,2,1,1,10])\n",
    "for i in range(1000000):\n",
    "    b = xp.array([-1,2,-1,i,-1])\n",
    "    dis.cosine(cuda.to_cpu(a), cuda.to_cpu(b))\n",
    "print(str(time.time()-start))"
   ]
  },
  {
   "cell_type": "code",
   "execution_count": 12,
   "metadata": {},
   "outputs": [
    {
     "name": "stdout",
     "output_type": "stream",
     "text": [
      "Wed May 10 08:53:53 2017       \n",
      "+------------------------------------------------------+                       \n",
      "| NVIDIA-SMI 352.99     Driver Version: 352.99         |                       \n",
      "|-------------------------------+----------------------+----------------------+\n",
      "| GPU  Name        Persistence-M| Bus-Id        Disp.A | Volatile Uncorr. ECC |\n",
      "| Fan  Temp  Perf  Pwr:Usage/Cap|         Memory-Usage | GPU-Util  Compute M. |\n",
      "|===============================+======================+======================|\n",
      "|   0  GRID K520           On   | 0000:00:03.0     Off |                  N/A |\n",
      "| N/A   45C    P0    43W / 125W |    610MiB /  4095MiB |      5%      Default |\n",
      "+-------------------------------+----------------------+----------------------+\n",
      "                                                                               \n",
      "+-----------------------------------------------------------------------------+\n",
      "| Processes:                                                       GPU Memory |\n",
      "|  GPU       PID  Type  Process name                               Usage      |\n",
      "|=============================================================================|\n",
      "|    0     12152    C   ...-user/.pyenv/versions/3.6.1/bin/python3.6   598MiB |\n",
      "+-----------------------------------------------------------------------------+\n",
      "Wed May 10 08:53:55 2017       \n",
      "+------------------------------------------------------+                       \n",
      "| NVIDIA-SMI 352.99     Driver Version: 352.99         |                       \n",
      "|-------------------------------+----------------------+----------------------+\n",
      "| GPU  Name        Persistence-M| Bus-Id        Disp.A | Volatile Uncorr. ECC |\n",
      "| Fan  Temp  Perf  Pwr:Usage/Cap|         Memory-Usage | GPU-Util  Compute M. |\n",
      "|===============================+======================+======================|\n",
      "|   0  GRID K520           On   | 0000:00:03.0     Off |                  N/A |\n",
      "| N/A   45C    P0    42W / 125W |    610MiB /  4095MiB |      2%      Default |\n",
      "+-------------------------------+----------------------+----------------------+\n",
      "                                                                               \n",
      "+-----------------------------------------------------------------------------+\n",
      "| Processes:                                                       GPU Memory |\n",
      "|  GPU       PID  Type  Process name                               Usage      |\n",
      "|=============================================================================|\n",
      "|    0     12152    C   ...-user/.pyenv/versions/3.6.1/bin/python3.6   598MiB |\n",
      "+-----------------------------------------------------------------------------+\n",
      "Wed May 10 08:53:56 2017       \n",
      "+------------------------------------------------------+                       \n",
      "| NVIDIA-SMI 352.99     Driver Version: 352.99         |                       \n",
      "|-------------------------------+----------------------+----------------------+\n",
      "| GPU  Name        Persistence-M| Bus-Id        Disp.A | Volatile Uncorr. ECC |\n",
      "| Fan  Temp  Perf  Pwr:Usage/Cap|         Memory-Usage | GPU-Util  Compute M. |\n",
      "|===============================+======================+======================|\n",
      "|   0  GRID K520           On   | 0000:00:03.0     Off |                  N/A |\n",
      "| N/A   45C    P0    43W / 125W |    610MiB /  4095MiB |      3%      Default |\n",
      "+-------------------------------+----------------------+----------------------+\n",
      "                                                                               \n",
      "+-----------------------------------------------------------------------------+\n",
      "| Processes:                                                       GPU Memory |\n",
      "|  GPU       PID  Type  Process name                               Usage      |\n",
      "|=============================================================================|\n",
      "|    0     12152    C   ...-user/.pyenv/versions/3.6.1/bin/python3.6   598MiB |\n",
      "+-----------------------------------------------------------------------------+\n",
      "Wed May 10 08:53:57 2017       \n",
      "+------------------------------------------------------+                       \n",
      "| NVIDIA-SMI 352.99     Driver Version: 352.99         |                       \n",
      "|-------------------------------+----------------------+----------------------+\n",
      "| GPU  Name        Persistence-M| Bus-Id        Disp.A | Volatile Uncorr. ECC |\n",
      "| Fan  Temp  Perf  Pwr:Usage/Cap|         Memory-Usage | GPU-Util  Compute M. |\n",
      "|===============================+======================+======================|\n",
      "|   0  GRID K520           On   | 0000:00:03.0     Off |                  N/A |\n",
      "| N/A   45C    P0    43W / 125W |    610MiB /  4095MiB |      6%      Default |\n",
      "+-------------------------------+----------------------+----------------------+\n",
      "                                                                               \n",
      "+-----------------------------------------------------------------------------+\n",
      "| Processes:                                                       GPU Memory |\n",
      "|  GPU       PID  Type  Process name                               Usage      |\n",
      "|=============================================================================|\n",
      "|    0     12152    C   ...-user/.pyenv/versions/3.6.1/bin/python3.6   598MiB |\n",
      "+-----------------------------------------------------------------------------+\n",
      "Wed May 10 08:53:58 2017       \n",
      "+------------------------------------------------------+                       \n",
      "| NVIDIA-SMI 352.99     Driver Version: 352.99         |                       \n",
      "|-------------------------------+----------------------+----------------------+\n",
      "| GPU  Name        Persistence-M| Bus-Id        Disp.A | Volatile Uncorr. ECC |\n",
      "| Fan  Temp  Perf  Pwr:Usage/Cap|         Memory-Usage | GPU-Util  Compute M. |\n",
      "|===============================+======================+======================|\n",
      "|   0  GRID K520           On   | 0000:00:03.0     Off |                  N/A |\n",
      "| N/A   45C    P0    43W / 125W |    610MiB /  4095MiB |      5%      Default |\n",
      "+-------------------------------+----------------------+----------------------+\n",
      "                                                                               \n",
      "+-----------------------------------------------------------------------------+\n",
      "| Processes:                                                       GPU Memory |\n",
      "|  GPU       PID  Type  Process name                               Usage      |\n",
      "|=============================================================================|\n",
      "|    0     12152    C   ...-user/.pyenv/versions/3.6.1/bin/python3.6   598MiB |\n",
      "+-----------------------------------------------------------------------------+\n",
      "Wed May 10 08:53:59 2017       \n",
      "+------------------------------------------------------+                       \n",
      "| NVIDIA-SMI 352.99     Driver Version: 352.99         |                       \n",
      "|-------------------------------+----------------------+----------------------+\n",
      "| GPU  Name        Persistence-M| Bus-Id        Disp.A | Volatile Uncorr. ECC |\n",
      "| Fan  Temp  Perf  Pwr:Usage/Cap|         Memory-Usage | GPU-Util  Compute M. |\n",
      "|===============================+======================+======================|\n",
      "|   0  GRID K520           On   | 0000:00:03.0     Off |                  N/A |\n",
      "| N/A   45C    P0    42W / 125W |    610MiB /  4095MiB |      3%      Default |\n",
      "+-------------------------------+----------------------+----------------------+\n",
      "                                                                               \n",
      "+-----------------------------------------------------------------------------+\n",
      "| Processes:                                                       GPU Memory |\n",
      "|  GPU       PID  Type  Process name                               Usage      |\n",
      "|=============================================================================|\n",
      "|    0     12152    C   ...-user/.pyenv/versions/3.6.1/bin/python3.6   598MiB |\n",
      "+-----------------------------------------------------------------------------+\n",
      "Wed May 10 08:54:00 2017       \n",
      "+------------------------------------------------------+                       \n",
      "| NVIDIA-SMI 352.99     Driver Version: 352.99         |                       \n",
      "|-------------------------------+----------------------+----------------------+\n",
      "| GPU  Name        Persistence-M| Bus-Id        Disp.A | Volatile Uncorr. ECC |\n",
      "| Fan  Temp  Perf  Pwr:Usage/Cap|         Memory-Usage | GPU-Util  Compute M. |\n",
      "|===============================+======================+======================|\n",
      "|   0  GRID K520           On   | 0000:00:03.0     Off |                  N/A |\n",
      "| N/A   45C    P0    43W / 125W |    610MiB /  4095MiB |      5%      Default |\n",
      "+-------------------------------+----------------------+----------------------+\n",
      "                                                                               \n",
      "+-----------------------------------------------------------------------------+\n",
      "| Processes:                                                       GPU Memory |\n",
      "|  GPU       PID  Type  Process name                               Usage      |\n",
      "|=============================================================================|\n",
      "|    0     12152    C   ...-user/.pyenv/versions/3.6.1/bin/python3.6   598MiB |\n",
      "+-----------------------------------------------------------------------------+\n"
     ]
    },
    {
     "name": "stdout",
     "output_type": "stream",
     "text": [
      "Wed May 10 08:54:01 2017       \n",
      "+------------------------------------------------------+                       \n",
      "| NVIDIA-SMI 352.99     Driver Version: 352.99         |                       \n",
      "|-------------------------------+----------------------+----------------------+\n",
      "| GPU  Name        Persistence-M| Bus-Id        Disp.A | Volatile Uncorr. ECC |\n",
      "| Fan  Temp  Perf  Pwr:Usage/Cap|         Memory-Usage | GPU-Util  Compute M. |\n",
      "|===============================+======================+======================|\n",
      "|   0  GRID K520           On   | 0000:00:03.0     Off |                  N/A |\n",
      "| N/A   45C    P0    43W / 125W |    610MiB /  4095MiB |      5%      Default |\n",
      "+-------------------------------+----------------------+----------------------+\n",
      "                                                                               \n",
      "+-----------------------------------------------------------------------------+\n",
      "| Processes:                                                       GPU Memory |\n",
      "|  GPU       PID  Type  Process name                               Usage      |\n",
      "|=============================================================================|\n",
      "|    0     12152    C   ...-user/.pyenv/versions/3.6.1/bin/python3.6   598MiB |\n",
      "+-----------------------------------------------------------------------------+\n",
      "Wed May 10 08:54:02 2017       \n",
      "+------------------------------------------------------+                       \n",
      "| NVIDIA-SMI 352.99     Driver Version: 352.99         |                       \n",
      "|-------------------------------+----------------------+----------------------+\n",
      "| GPU  Name        Persistence-M| Bus-Id        Disp.A | Volatile Uncorr. ECC |\n",
      "| Fan  Temp  Perf  Pwr:Usage/Cap|         Memory-Usage | GPU-Util  Compute M. |\n",
      "|===============================+======================+======================|\n",
      "|   0  GRID K520           On   | 0000:00:03.0     Off |                  N/A |\n",
      "| N/A   45C    P0    43W / 125W |    610MiB /  4095MiB |      5%      Default |\n",
      "+-------------------------------+----------------------+----------------------+\n",
      "                                                                               \n",
      "+-----------------------------------------------------------------------------+\n",
      "| Processes:                                                       GPU Memory |\n",
      "|  GPU       PID  Type  Process name                               Usage      |\n",
      "|=============================================================================|\n",
      "|    0     12152    C   ...-user/.pyenv/versions/3.6.1/bin/python3.6   598MiB |\n",
      "+-----------------------------------------------------------------------------+\n",
      "Wed May 10 08:54:03 2017       \n",
      "+------------------------------------------------------+                       \n",
      "| NVIDIA-SMI 352.99     Driver Version: 352.99         |                       \n",
      "|-------------------------------+----------------------+----------------------+\n",
      "| GPU  Name        Persistence-M| Bus-Id        Disp.A | Volatile Uncorr. ECC |\n",
      "| Fan  Temp  Perf  Pwr:Usage/Cap|         Memory-Usage | GPU-Util  Compute M. |\n",
      "|===============================+======================+======================|\n",
      "|   0  GRID K520           On   | 0000:00:03.0     Off |                  N/A |\n",
      "| N/A   45C    P0    43W / 125W |    610MiB /  4095MiB |      5%      Default |\n",
      "+-------------------------------+----------------------+----------------------+\n",
      "                                                                               \n",
      "+-----------------------------------------------------------------------------+\n",
      "| Processes:                                                       GPU Memory |\n",
      "|  GPU       PID  Type  Process name                               Usage      |\n",
      "|=============================================================================|\n",
      "|    0     12152    C   ...-user/.pyenv/versions/3.6.1/bin/python3.6   598MiB |\n",
      "+-----------------------------------------------------------------------------+\n",
      "Wed May 10 08:54:04 2017       \n",
      "+------------------------------------------------------+                       \n",
      "| NVIDIA-SMI 352.99     Driver Version: 352.99         |                       \n",
      "|-------------------------------+----------------------+----------------------+\n",
      "| GPU  Name        Persistence-M| Bus-Id        Disp.A | Volatile Uncorr. ECC |\n",
      "| Fan  Temp  Perf  Pwr:Usage/Cap|         Memory-Usage | GPU-Util  Compute M. |\n",
      "|===============================+======================+======================|\n",
      "|   0  GRID K520           On   | 0000:00:03.0     Off |                  N/A |\n",
      "| N/A   45C    P0    43W / 125W |    610MiB /  4095MiB |      5%      Default |\n",
      "+-------------------------------+----------------------+----------------------+\n",
      "                                                                               \n",
      "+-----------------------------------------------------------------------------+\n",
      "| Processes:                                                       GPU Memory |\n",
      "|  GPU       PID  Type  Process name                               Usage      |\n",
      "|=============================================================================|\n",
      "|    0     12152    C   ...-user/.pyenv/versions/3.6.1/bin/python3.6   598MiB |\n",
      "+-----------------------------------------------------------------------------+\n",
      "Wed May 10 08:54:05 2017       \n",
      "+------------------------------------------------------+                       \n",
      "| NVIDIA-SMI 352.99     Driver Version: 352.99         |                       \n",
      "|-------------------------------+----------------------+----------------------+\n",
      "| GPU  Name        Persistence-M| Bus-Id        Disp.A | Volatile Uncorr. ECC |\n",
      "| Fan  Temp  Perf  Pwr:Usage/Cap|         Memory-Usage | GPU-Util  Compute M. |\n",
      "|===============================+======================+======================|\n",
      "|   0  GRID K520           On   | 0000:00:03.0     Off |                  N/A |\n",
      "| N/A   45C    P0    43W / 125W |    610MiB /  4095MiB |      5%      Default |\n",
      "+-------------------------------+----------------------+----------------------+\n",
      "                                                                               \n",
      "+-----------------------------------------------------------------------------+\n",
      "| Processes:                                                       GPU Memory |\n",
      "|  GPU       PID  Type  Process name                               Usage      |\n",
      "|=============================================================================|\n",
      "|    0     12152    C   ...-user/.pyenv/versions/3.6.1/bin/python3.6   598MiB |\n",
      "+-----------------------------------------------------------------------------+\n",
      "^C\n"
     ]
    }
   ],
   "source": [
    "!nvidia-smi -l 1"
   ]
  },
  {
   "cell_type": "code",
   "execution_count": 5,
   "metadata": {},
   "outputs": [
    {
     "name": "stdout",
     "output_type": "stream",
     "text": [
      "Collecting pyyaml\n",
      "  Downloading PyYAML-3.12.tar.gz (253kB)\n",
      "\u001b[K    100% |████████████████████████████████| 256kB 4.4MB/s eta 0:00:01\n",
      "\u001b[?25hInstalling collected packages: pyyaml\n",
      "  Running setup.py install for pyyaml ... \u001b[?25ldone\n",
      "\u001b[?25hSuccessfully installed pyyaml-3.12\n"
     ]
    }
   ],
   "source": [
    "!pip3 install pyyaml"
   ]
  },
  {
   "cell_type": "code",
   "execution_count": null,
   "metadata": {
    "collapsed": true
   },
   "outputs": [],
   "source": []
  }
 ],
 "metadata": {
  "kernelspec": {
   "display_name": "Python 3",
   "language": "python",
   "name": "python3"
  },
  "language_info": {
   "codemirror_mode": {
    "name": "ipython",
    "version": 3
   },
   "file_extension": ".py",
   "mimetype": "text/x-python",
   "name": "python",
   "nbconvert_exporter": "python",
   "pygments_lexer": "ipython3",
   "version": "3.6.1"
  }
 },
 "nbformat": 4,
 "nbformat_minor": 2
}
