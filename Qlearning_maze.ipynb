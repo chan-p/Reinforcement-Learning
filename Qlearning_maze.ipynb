{
 "cells": [
  {
   "cell_type": "code",
   "execution_count": 48,
   "metadata": {
    "collapsed": false
   },
   "outputs": [],
   "source": [
    "# coding:utf-8\n",
    "import numpy as np\n",
    "import random\n",
    "\"\"\"\n",
    "MAZE = [[-1,-1,-1,-1,-1,-1,-1,-1,-1,-1],\n",
    "        [-1, 0, 0, 0, 0, 0, 0, 0, 0,-1],\n",
    "        [-1,-1,-1,-1,-1, 0,-1,-1, 0,-1],\n",
    "        [-1,-1, 0, 0, 0, 0, 0,-1, 0,-1],\n",
    "        [-1, 0,-1,-1,-1,-1,-1,-1, 0,-1],\n",
    "        [-1, 0, 0, 0, 0, 0, 0, 0, 0,-1],\n",
    "        [-1, 0,-1,-1,-1,-1,-1,-1, 0,-1],\n",
    "        [-1, 0, 0, 0, 0, 0, 0, 0, 0,-1],\n",
    "        [-1,-1, 0,-1,-1,-1,-1,-1,-1,-1],\n",
    "        [-1,-1, 0, 0, 0, 0, 0, 0, 0,-1],\n",
    "        [-1,-1,-1,-1, 0,-1,-1,-1,-1,-1],\n",
    "        [-1,-1, 0, 0, 0, 0, 0, 0, 1,-1],\n",
    "        [-1,-1,-1,-1,-1,-1,-1,-1,-1,-1]]\n",
    "\"\"\"\n",
    "MAZE = [[-1,-1,-1,-1,-1,-1,-1,-1,-1,-1,-1,-1],\n",
    "        [-1, 0, 0, 0, 0, 0, 0, 0, 0,-1, 0,-1],\n",
    "        [-1,-1,-1,-1,-1, 0,-1,-1, 0,-1,-1,-1],\n",
    "        [-1,-1, 0, 0, 0, 0, 0,-1, 0,-1,-1,-1],\n",
    "        [-1, 0,-1,-1,-1,-1,-1,-1, 0,-1,-1,-1],\n",
    "        [-1, 0, 0, 0, 0, 0, 0, 0 ,0,-1,-1,-1],\n",
    "        [-1, 0,-1,-1,-1,-1,-1,-1, 0,-1,-1,-1],\n",
    "        [ 0, 0, 0, 0, 0, 0, 0, 0, 0,-1,-1,-1],\n",
    "        [ 0,-1, 0,-1,-1,-1,-1,-1,-1,-1,-1,-1],\n",
    "        [ 0,-1, 0, 0, 0, 0, 0, 0, 0,-1,-1,-1],\n",
    "        [ 0,-1,-1,-1,-1,-1,-1,-1,-1,-1,-1,-1],\n",
    "        [ 0,-1, 0, 0, 0, 0,-1, 0, 0, 0, 1,-1],\n",
    "        [ 0, 0, 0,-1,-1, 0, 0, 0,-1,-1,-1,-1]]\n",
    "START  = (1, 1)\n",
    "ACTION = [(-1, 0), (1, 0), (0, -1), (0, 1)] # [上, 下, 左, 右]\n",
    "EPOCH  = 50000\n",
    "ALPH   = 0.1\n",
    "EPSIL  = 0.01\n",
    "RESULT = []\n",
    "FINISH = []\n",
    "\n",
    "def q_learn(qtable, qtable_index):\n",
    "    f = open(\"/Users/chan-p/Desktop/action.txt\", \"w\")\n",
    "    record = []\n",
    "    for epoch in range(EPOCH):\n",
    "        # if epoch > EPOCH/2: \n",
    "        #     EPSIL = EPSIL/(epoch/2)\n",
    "        state  = START\n",
    "        f.write(str(0) + \",\" + str(0) + \",\" +str(3) + \"\\n\")\n",
    "        while True:\n",
    "            now_action = policy_egreedy(qtable_index[state], qtable)\n",
    "            next_state = (state[0] + now_action[0], state[1] + now_action[1])\n",
    "            if state_check(next_state) == 0 or MAZE[next_state[0]][next_state[1]] == -1:\n",
    "                qtable = update_value(qtable_index[(state)], None, ACTION.index(now_action), -1, qtable, 0)\n",
    "                f.write(str(now_action[0]) + \",\" + str(now_action[1]) + \",\" +str(1) + \"\\n\")\n",
    "                record.append((state, now_action, -1, 1))\n",
    "                RESULT.append(0)\n",
    "                break\n",
    "            reword = MAZE[next_state[0]][next_state[1]]\n",
    "            qtable = update_value(qtable_index[(state)], qtable_index[next_state], ACTION.index(now_action), reword, qtable, 1)\n",
    "            record.append((state, now_action, reword, 0))\n",
    "            state = next_state\n",
    "            if reword == 1:\n",
    "                f.write(str(0) + \",\" + str(0) + \",\" +str(2) + \"\\n\")\n",
    "                RESULT.append(1)\n",
    "                record.append((state, now_action, reword, 1))\n",
    "                break\n",
    "            f.write(str(now_action[0]) + \",\" + str(now_action[1]) + \",\" +str(0) + \"\\n\")\n",
    "    f.close()\n",
    "    return RESULT, record\n",
    "            \n",
    "def update_value(state, next_state, now_action, reword, qtable , flg):\n",
    "    if flg == 0:\n",
    "        qtable[state][now_action] = (1 - ALPH) * qtable[state][now_action] + ALPH * reword\n",
    "        return qtable\n",
    "    next_action = ACTION[np.argmax(qtable[next_state])]\n",
    "    qtable[state][now_action] = (1 - ALPH) * qtable[state][now_action] + ALPH * (reword + qtable[next_state][ACTION.index(next_action)])\n",
    "    return qtable\n",
    "    \n",
    "def policy_greedy(state, qtable):\n",
    "    return ACTION[np.argmax(np.array(qtable[state]))]\n",
    "\n",
    "def policy_egreedy(state, qtable):\n",
    "    return ACTION[random.choice([i for i, x in enumerate(qtable[state]) if x == max(qtable[state])])] if EPSIL < random.random() else random.choice(ACTION)\n",
    "            \n",
    "def action_value(state, action, qtable):\n",
    "    return qtable[state][action]\n",
    "\n",
    "def output_action(now_action):\n",
    "    if now_action == (-1, 0):\n",
    "        print(\"↑\", end=\"\")\n",
    "    elif now_action == (1, 0):\n",
    "        print(\"↓\", end=\"\")\n",
    "    elif now_action == (0, -1):\n",
    "        print(\"←\", end=\"\")\n",
    "    elif now_action == (0, 1):\n",
    "        print(\"→\", end=\"\")\n",
    "        \n",
    "def state_check(state):\n",
    "    if (state[0] < 0) or (state[1] < 0) or (len(MAZE)-1) < state[0] or (len(MAZE[0])-1 < state[1]) :\n",
    "        # print(\"失敗\")\n",
    "        RESULT.append(0)\n",
    "        return 0\n",
    "    return 1\n",
    "\n",
    "def init_qtable():\n",
    "    qtable_index = {}\n",
    "    num = 0\n",
    "    for y in range(len(MAZE)+1):\n",
    "        for x in range(len(MAZE[0])+1):\n",
    "            qtable_index[(y, x)] = num\n",
    "            num += 1\n",
    "    return np.zeros(((len(MAZE[0])+1)*(len(MAZE)+1), 4)), qtable_index\n",
    "\n",
    "def main():\n",
    "    qtable, qtable_index = init_qtable()\n",
    "    return q_learn(qtable, qtable_index)"
   ]
  },
  {
   "cell_type": "code",
   "execution_count": 37,
   "metadata": {
    "collapsed": true
   },
   "outputs": [],
   "source": [
    "%matplotlib inline\n",
    "import matplotlib.pyplot as plt\n",
    "import numpy as np\n",
    "\n",
    "def gragh(result, epoch):    \n",
    "    x = np.arange(0, epoch, 1)\n",
    "    left = np.array(x)\n",
    "    count = 0\n",
    "    count_1 = 0\n",
    "    parcent = []\n",
    "    for i in result:\n",
    "        count += 1\n",
    "        if i == 1:\n",
    "            count_1 += 1\n",
    "        parcent.append(count_1/count)\n",
    "    height = np.array(parcent)\n",
    "    plt.plot(left, height)"
   ]
  },
  {
   "cell_type": "code",
   "execution_count": 49,
   "metadata": {
    "collapsed": false,
    "scrolled": true
   },
   "outputs": [
    {
     "data": {
      "image/png": "[encoded data removed]",
      "text/plain": [
       "<matplotlib.figure.Figure at 0x10a050160>"
      ]
     },
     "metadata": {},
     "output_type": "display_data"
    }
   ],
   "source": [
    "_list, record = main()\n",
    "gragh(_list, len(_list))\n",
    "count = 1\n",
    "write_count = 0\n",
    "with open(\"./record.csv\", \"w\") as f:\n",
    "    for line in record:\n",
    "        if count % 15 == 0:\n",
    "            f.write(str(line[0][0]) + \",\" + str(line[0][1]) + \",\" +str(line[1][0]) + \",\" + str(line[1][1]) + \",\" + str(line[2]) + \",\" + str(line[3]) + \"\\n\")\n",
    "            write_count += 1\n",
    "        if write_count == 5000:\n",
    "            break\n",
    "        count += 1"
   ]
  },
  {
   "cell_type": "code",
   "execution_count": null,
   "metadata": {
    "collapsed": true
   },
   "outputs": [],
   "source": []
  },
  {
   "cell_type": "code",
   "execution_count": 185,
   "metadata": {
    "collapsed": false
   },
   "outputs": [
    {
     "data": {
      "text/plain": [
       "'\\nMAZE = [[-1,-1,-1,-1,-1,-1,-1,-1,-1,-1],\\n        [-1, 0, 0, 0, 0, 0, 0, 0, 0,-1],\\n        [-1,-1,-1,-1,-1, 0,-1,-1, 0,-1],\\n        [-1,-1, 0, 0, 0, 0, 0,-1, 0,-1],\\n        [-1, 0,-1,-1,-1,-1,-1,-1, 0,-1],\\n        [-1, 0, 0, 0, 0, 0, 0, 0, 0,-1],\\n        [-1, 0,-1,-1,-1,-1,-1,-1, 0,-1],\\n        [-1, 0, 0, 0, 0, 0, 0, 0, 0,-1],\\n        [-1,-1, 0,-1,-1,-1,-1,-1,-9,-1],\\n        [-1,-1, 0, 0, 0, 0, 0, 0, 1,-1],\\n        [-1,-1,-1,-1,-1,-1,-1,-1,-1,-1]]\\n'"
      ]
     },
     "execution_count": 185,
     "metadata": {},
     "output_type": "execute_result"
    }
   ],
   "source": [
    "\"\"\"\n",
    "MAZE = [[-1,-1,-1,-1,-1,-1,-1,-1,-1,-1],\n",
    "        [-1, 0, 0, 0, 0, 0, 0, 0, 0,-1],\n",
    "        [-1,-1,-1,-1,-1, 0,-1,-1, 0,-1],\n",
    "        [-1,-1, 0, 0, 0, 0, 0,-1, 0,-1],\n",
    "        [-1, 0,-1,-1,-1,-1,-1,-1, 0,-1],\n",
    "        [-1, 0, 0, 0, 0, 0, 0, 0, 0,-1],\n",
    "        [-1, 0,-1,-1,-1,-1,-1,-1, 0,-1],\n",
    "        [-1, 0, 0, 0, 0, 0, 0, 0, 0,-1],\n",
    "        [-1,-1, 0,-1,-1,-1,-1,-1,-9,-1],\n",
    "        [-1,-1, 0, 0, 0, 0, 0, 0, 1,-1],\n",
    "        [-1,-1,-1,-1,-1,-1,-1,-1,-1,-1]]\n",
    "\"\"\""
   ]
  }
 ],
 "metadata": {
  "kernelspec": {
   "display_name": "Python 3",
   "language": "python",
   "name": "python3"
  },
  "language_info": {
   "codemirror_mode": {
    "name": "ipython",
    "version": 3
   },
   "file_extension": ".py",
   "mimetype": "text/x-python",
   "name": "python",
   "nbconvert_exporter": "python",
   "pygments_lexer": "ipython3",
   "version": "3.5.2"
  }
 },
 "nbformat": 4,
 "nbformat_minor": 2
}
