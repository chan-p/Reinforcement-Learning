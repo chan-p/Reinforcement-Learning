{
 "cells": [
  {
   "cell_type": "code",
   "execution_count": 1,
   "metadata": {
    "code_folding": [],
    "collapsed": true
   },
   "outputs": [],
   "source": [
    "# coding:utf-8\n",
    "%matplotlib inline\n",
    "import matplotlib.pyplot as plt\n",
    "import numpy as np\n",
    "\n",
    "def gragh(result, epoch):    \n",
    "    x = np.arange(0, epoch, 1)\n",
    "    left = np.array(x)\n",
    "    height = np.array(result)\n",
    "    plt.plot(left, height)"
   ]
  },
  {
   "cell_type": "code",
   "execution_count": null,
   "metadata": {
    "code_folding": [],
    "collapsed": false
   },
   "outputs": [],
   "source": [
    "# coding-utf-8\n",
    "from deep_qnetwork import DeepQNetwork\n",
    "import random\n",
    "\n",
    "NUM_IN   = 2\n",
    "NUM_HID1 = 100\n",
    "NUM_HID2 = 100\n",
    "NUM_HID3 = 100\n",
    "NUM_OUT  = 3\n",
    "MODEL_NAME = \"./DQN_model/MC1.model\"\n",
    "ACTION = [0, 1, 2]\n",
    "\n",
    "BATCH_SIZE= 50\n",
    "EPOCH = 10\n",
    "GAMMA = 0.9\n",
    "EPSIL = 0.01\n",
    "ProccerUnit = \"CPU\"\n",
    "RESULT = []\n",
    "\n",
    "def agent_action(env, action):\n",
    "    next_state, reward, terminal, info = env.step(action)\n",
    "    return next_state, reward, terminal, info\n",
    "\n",
    "def deep_Q_learn(env, Agent):\n",
    "    STEP = 200\n",
    "    Agent.load_weight()\n",
    "    for episode in range(1, EPOCH+1):\n",
    "        # print(episode)\n",
    "        Agent.update_target_network()\n",
    "        now_state = env.reset()\n",
    "        Agent.reduce_epsil(episode)\n",
    "        Agent.EPSIL = EPSIL \n",
    "        sum_reward = 0\n",
    "        for step in range(1, STEP+1):\n",
    "            # 方策に従って行動を選択\n",
    "            action, _, action_list = Agent.policy_egreedy(now_state, Agent.Q_network)\n",
    "            \n",
    "            # 行動による次状態を観測\n",
    "            next_state, reward, term, _ = agent_action(env, ACTION[action])\n",
    "            \n",
    "            sum_reward += reward\n",
    "            \n",
    "            if term:\n",
    "                break\n",
    "        \n",
    "            # 状態更新\n",
    "            now_state = next_state\n",
    "            env.render()\n",
    "        # print(sum_reward)\n",
    "        RESULT.append(sum_reward)\n",
    "    gragh(RESULT, len(RESULT))\n",
    "    \n",
    "def run():\n",
    "    import gym\n",
    "    env = gym.make(\"MountainCar-v0\")\n",
    "    Agent = DeepQNetwork(NUM_IN, NUM_HID1, NUM_HID2, NUM_HID3, NUM_OUT,\n",
    "                         ProccerUnit, EPSIL, GAMMA, BATCH_SIZE, MODEL_NAME)\n",
    "    deep_Q_learn(env, Agent)"
   ]
  },
  {
   "cell_type": "code",
   "execution_count": null,
   "metadata": {
    "collapsed": false
   },
   "outputs": [
    {
     "name": "stderr",
     "output_type": "stream",
     "text": [
      "[2017-06-04 12:13:40,543] Making new env: MountainCar-v0\n"
     ]
    }
   ],
   "source": [
    "run()"
   ]
  }
 ],
 "metadata": {
  "kernelspec": {
   "display_name": "Python 3",
   "language": "python",
   "name": "python3"
  },
  "language_info": {
   "codemirror_mode": {
    "name": "ipython",
    "version": 3
   },
   "file_extension": ".py",
   "mimetype": "text/x-python",
   "name": "python",
   "nbconvert_exporter": "python",
   "pygments_lexer": "ipython3",
   "version": "3.5.2"
  }
 },
 "nbformat": 4,
 "nbformat_minor": 2
}
