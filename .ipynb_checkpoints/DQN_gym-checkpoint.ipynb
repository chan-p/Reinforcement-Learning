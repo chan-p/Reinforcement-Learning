{
 "cells": [
  {
   "cell_type": "code",
   "execution_count": null,
   "metadata": {
    "code_folding": [],
    "collapsed": false
   },
   "outputs": [],
   "source": [
    "# coding-utf-8\n",
    "from deep_q_network import DeepQNetwork\n",
    "import random\n",
    "\n",
    "NUM_IN   = 2\n",
    "NUM_HID1 = 1000\n",
    "NUM_HID2 = 500\n",
    "NUM_HID3 = 250\n",
    "NUM_OUT  = 3\n",
    "BATCH_SIZE = 10\n",
    "EPOCH = 50\n",
    "GAMMA = 0.5\n",
    "EPSIL = 0.1\n",
    "NUM_LIMIT_RECORD = 1000\n",
    "NUM_INIT_RECORD = 1400\n",
    "ProccerUnit = \"CPU\"\n",
    "MODEL_NAME = \"./DQN_model/Mountaincarver5.model\"\n",
    "RESULT = []\n",
    "\n",
    "def agent_action(env, action):\n",
    "    next_state, reward, terminal, info = env.step(action)\n",
    "    return next_state, reward, terminal, info\n",
    "\n",
    "def deep_Q_learn(env, Agent):\n",
    "    step = 700\n",
    "    for episode in range(1, EPOCH+1):\n",
    "        print(episode)\n",
    "        Agent.load_weight()\n",
    "        Agent.update_target_network()\n",
    "        now_state = env.reset()\n",
    "        Agent.reduce_epsil(episode)\n",
    "        for step in range(1, step+1):\n",
    "            # 方策に従って行動を選択\n",
    "            action, _, action_list = Agent.policy_egreedy(now_state, Agent.Q_network)\n",
    "            # 行動による次状態を観測\n",
    "            next_state, reward, term, _ = agent_action(env, action)\n",
    "            # ゴールの設定\n",
    "            terminal, reward = (True, 1) if next_state[0]-now_state[0] == 0 else (False, reward)\n",
    "    \n",
    "            # DQN学習\n",
    "            Agent.deep_lean(now_state, action, next_state, reward, terminal, action_list)\n",
    "            Agent.stock_record(now_state, action, next_state, reward, terminal, action_list)\n",
    "            \n",
    "            # Experience_Replayによるバッチ学習\n",
    "            if len(Agent.record) > NUM_LIMIT_RECORD:\n",
    "                Agent.experience_replay()\n",
    "                if len(Agent.record) > NUM_INIT_RECORD:\n",
    "                    Agent.init_record()\n",
    "            # モデル同期\n",
    "            if step % 200 == 0:\n",
    "                Agent.update_target_network()\n",
    "            # モデル保存\n",
    "            if terminal:\n",
    "                print(str(step)+\":成功\")\n",
    "                RESULT.append(1)\n",
    "                Agent.GAMMA -= 0.1\n",
    "                step -= 100\n",
    "                Agent.save_weight()\n",
    "                break\n",
    "            # 状態更新\n",
    "            now_state = next_state \n",
    "            # env.render()\n",
    "        if random.random() > 0.95:\n",
    "            Agent.save_weight()\n",
    "            print(\"更新\")\n",
    "    print(len(RESULT)/EPOCH)\n",
    "                \n",
    "def run():\n",
    "    import gym\n",
    "    env = gym.make(\"MountainCar-v0\")\n",
    "    Agent = DeepQNetwork(NUM_IN, NUM_HID1, NUM_HID2, NUM_HID3, NUM_OUT,\n",
    "                         ProccerUnit, EPSIL, GAMMA, BATCH_SIZE, MODEL_NAME)\n",
    "    deep_Q_learn(env, Agent)"
   ]
  },
  {
   "cell_type": "code",
   "execution_count": null,
   "metadata": {
    "collapsed": false
   },
   "outputs": [],
   "source": [
    "run()"
   ]
  }
 ],
 "metadata": {
  "kernelspec": {
   "display_name": "Python 3",
   "language": "python",
   "name": "python3"
  },
  "language_info": {
   "codemirror_mode": {
    "name": "ipython",
    "version": 3
   },
   "file_extension": ".py",
   "mimetype": "text/x-python",
   "name": "python",
   "nbconvert_exporter": "python",
   "pygments_lexer": "ipython3",
   "version": "3.5.2"
  }
 },
 "nbformat": 4,
 "nbformat_minor": 2
}
