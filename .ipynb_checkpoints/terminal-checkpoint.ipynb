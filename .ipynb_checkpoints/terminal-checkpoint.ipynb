{
 "cells": [
  {
   "cell_type": "code",
   "execution_count": 10,
   "metadata": {},
   "outputs": [
    {
     "name": "stdout",
     "output_type": "stream",
     "text": [
      "1.23.0\n"
     ]
    }
   ],
   "source": [
    "import chainer\n",
    "\n",
    "print(chainer.__version__)"
   ]
  },
  {
   "cell_type": "code",
   "execution_count": 2,
   "metadata": {},
   "outputs": [
    {
     "name": "stdout",
     "output_type": "stream",
     "text": [
      "Updating b2d060c..6dd3d92\r\n",
      "Fast-forward\r\n",
      " DQN_maze_ver2.ipynb | 485 \u001b[32m+++++++++++++++++++++++++++++++++++++++++++++++++\u001b[m\u001b[31m---\u001b[m\r\n",
      " my.model            | Bin \u001b[31m3008415\u001b[m -> \u001b[32m3009042\u001b[m bytes\r\n",
      " 2 files changed, 461 insertions(+), 24 deletions(-)\r\n"
     ]
    }
   ],
   "source": [
    "!git merge origin/master"
   ]
  },
  {
   "cell_type": "code",
   "execution_count": 5,
   "metadata": {},
   "outputs": [
    {
     "name": "stdout",
     "output_type": "stream",
     "text": [
      "Collecting pyyaml\n",
      "  Downloading PyYAML-3.12.tar.gz (253kB)\n",
      "\u001b[K    100% |████████████████████████████████| 256kB 4.4MB/s eta 0:00:01\n",
      "\u001b[?25hInstalling collected packages: pyyaml\n",
      "  Running setup.py install for pyyaml ... \u001b[?25ldone\n",
      "\u001b[?25hSuccessfully installed pyyaml-3.12\n"
     ]
    }
   ],
   "source": [
    "!pip3 install pyyaml"
   ]
  },
  {
   "cell_type": "code",
   "execution_count": null,
   "metadata": {
    "collapsed": true
   },
   "outputs": [],
   "source": []
  }
 ],
 "metadata": {
  "kernelspec": {
   "display_name": "Python 3",
   "language": "python",
   "name": "python3"
  },
  "language_info": {
   "codemirror_mode": {
    "name": "ipython",
    "version": 3
   },
   "file_extension": ".py",
   "mimetype": "text/x-python",
   "name": "python",
   "nbconvert_exporter": "python",
   "pygments_lexer": "ipython3",
   "version": "3.6.1"
  }
 },
 "nbformat": 4,
 "nbformat_minor": 2
}
