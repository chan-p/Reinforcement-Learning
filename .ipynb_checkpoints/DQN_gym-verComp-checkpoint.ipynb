{
 "cells": [
  {
   "cell_type": "code",
   "execution_count": null,
   "metadata": {
    "code_folding": [
     19
    ],
    "collapsed": false
   },
   "outputs": [],
   "source": [
    "# coding-utf-8\n",
    "from deep_qnetwork import DeepQNetwork\n",
    "import random\n",
    "import copy\n",
    "\n",
    "NUM_IN   = \n",
    "NUM_HID1 = 100\n",
    "NUM_HID2 = 100\n",
    "NUM_HID3 = 100\n",
    "NUM_OUT  = \n",
    "BATCH_SIZE = 200\n",
    "EPOCH = 1000\n",
    "GAMMA = 0.9\n",
    "EPSIL = 1.0\n",
    "NUM_LIMIT_RECORD = 1000\n",
    "NUM_INIT_RECORD = 10000\n",
    "ProccerUnit = \"CPU\"\n",
    "MODEL_NAME = \"./DQN_model/\"\n",
    "ACTION = []\n",
    "RESULT_REWARD = []\n",
    "\n",
    "def agent_action(env, action):\n",
    "    next_state, reward, terminal, info = env.step(action)\n",
    "    return next_state, reward, terminal, info\n",
    "\n",
    "def deep_Q_learn(env, Agent):\n",
    "    STEP = 200\n",
    "    Agent.load_weight()\n",
    "    for episode in range(1, EPOCH+1):\n",
    "        now_state = env.reset()\n",
    "        sum_reward = 0\n",
    "        for step in range(1, STEP+1):\n",
    "            # 方策に従って行動を選択\n",
    "            action, _, action_list = Agent.policy_egreedy(now_state, Agent.Q_network)\n",
    "            # 行動による次状態を観測\n",
    "            next_state, reward, term, _ = agent_action(env, [ACTION[action]])\n",
    "            # ゴールの設定\n",
    "            terminal, reward = (True, 1.0) if term else (False, reward)\n",
    "    \n",
    "            sum_reward += reward\n",
    "            Agent.stock_record(now_state, action, next_state, reward, terminal, action_list)\n",
    "                \n",
    "            # 状態更新\n",
    "            now_state = copy.deepcopy(next_state)\n",
    "            # env.render()\n",
    "            \n",
    "            if terminal:\n",
    "                break\n",
    "            \n",
    "            # Experience_Replayによるバッチ学習\n",
    "            if len(Agent.record) > NUM_LIMIT_RECORD:\n",
    "                Agent.init_record()\n",
    "                if step % 20 == 0:\n",
    "                    Agent.experience_replay_ver2()\n",
    "                    Agent.EPSIL -= EPSIL / EPOCH\n",
    "                if step % 40 == 0:\n",
    "                    Agent.update_target_network()               \n",
    "                    Agent.save_weight()\n",
    "                \n",
    "        print(episode, sum_reward, Agent.EPSIL)\n",
    "        RESULT_REWARD.append(sum_reward)\n",
    "    gragh(RESULT_REWARD, len(RESULT_REWARD))\n",
    "                \n",
    "def run():\n",
    "    import gym\n",
    "    env = gym.make(\"Pendulum-v0\")\n",
    "    Agent = DeepQNetwork(NUM_IN, NUM_HID1, NUM_HID2, NUM_HID3, NUM_OUT,\n",
    "                         ProccerUnit, EPSIL, GAMMA, BATCH_SIZE, MODEL_NAME)\n",
    "    deep_Q_learn(env, Agent)"
   ]
  },
  {
   "cell_type": "code",
   "execution_count": null,
   "metadata": {
    "code_folding": [
     0
    ],
    "collapsed": true
   },
   "outputs": [],
   "source": [
    "# coding:utf-8\n",
    "%matplotlib inline\n",
    "import matplotlib.pyplot as plt\n",
    "import numpy as np\n",
    "\n",
    "def gragh(result, epoch):    \n",
    "    x = np.arange(0, epoch, 1)\n",
    "    left = np.array(x)\n",
    "    height = np.array(result)\n",
    "    plt.plot(left, height)"
   ]
  },
  {
   "cell_type": "code",
   "execution_count": null,
   "metadata": {
    "collapsed": false,
    "scrolled": true
   },
   "outputs": [],
   "source": [
    "run()"
   ]
  }
 ],
 "metadata": {
  "kernelspec": {
   "display_name": "Python 3",
   "language": "python",
   "name": "python3"
  },
  "language_info": {
   "codemirror_mode": {
    "name": "ipython",
    "version": 3
   },
   "file_extension": ".py",
   "mimetype": "text/x-python",
   "name": "python",
   "nbconvert_exporter": "python",
   "pygments_lexer": "ipython3",
   "version": "3.5.2"
  }
 },
 "nbformat": 4,
 "nbformat_minor": 2
}
