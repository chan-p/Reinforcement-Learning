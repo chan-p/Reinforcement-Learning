{
 "cells": [
  {
   "cell_type": "code",
   "execution_count": null,
   "metadata": {
    "collapsed": false
   },
   "outputs": [],
   "source": [
    "import gym\n",
    "\n",
    "env = gym.make(\"Breakout-v0\")\n",
    "state = env.reset()\n",
    "print(len(state))\n",
    "print(len(state[0]))\n",
    "print(len(state[0][0]))\n",
    "# print(len(state[0][0][0]))\n",
    "env.render()\n",
    "for i in range(1000):\n",
    "    action = env.action_space.sample()\n",
    "    # print(action)\n",
    "    a, b, c, _ = env.step(action)\n",
    "    env.render()"
   ]
  }
 ],
 "metadata": {
  "kernelspec": {
   "display_name": "Python 3",
   "language": "python",
   "name": "python3"
  },
  "language_info": {
   "codemirror_mode": {
    "name": "ipython",
    "version": 3
   },
   "file_extension": ".py",
   "mimetype": "text/x-python",
   "name": "python",
   "nbconvert_exporter": "python",
   "pygments_lexer": "ipython3",
   "version": "3.5.2"
  }
 },
 "nbformat": 4,
 "nbformat_minor": 2
}
