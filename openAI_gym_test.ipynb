{
 "cells": [
  {
   "cell_type": "code",
   "execution_count": null,
   "metadata": {
    "collapsed": false
   },
   "outputs": [],
   "source": [
    "import gym\n",
    "\n",
    "env = gym.make(\"Breakout-v0\")\n",
    "state = env.reset()\n",
    "env.render()\n",
    "print(env.action_space.n)\n",
    "for i in range(100090):\n",
    "    # action = env.action_space.sample()\n",
    "    # _, b, c, d = env.step(0)\n",
    "    # env.render()\n",
    "    _, b, c, d = env.step(1)\n",
    "    env.render()\n",
    "    _, b, c, d = env.step(2)\n",
    "    env.render()\n",
    "    _, b, c, d = env.step(3)\n",
    "    # env.render()\n",
    "    # _, b, c, d = env.step(4)\n",
    "    # env.render()\n",
    "    # _, b, c, d = env.step(5)\n",
    "    env.render()\n",
    "    if c:\n",
    "        env.reset()\n"
   ]
  }
 ],
 "metadata": {
  "kernelspec": {
   "display_name": "Python 3",
   "language": "python",
   "name": "python3"
  },
  "language_info": {
   "codemirror_mode": {
    "name": "ipython",
    "version": 3
   },
   "file_extension": ".py",
   "mimetype": "text/x-python",
   "name": "python",
   "nbconvert_exporter": "python",
   "pygments_lexer": "ipython3",
   "version": "3.5.2"
  }
 },
 "nbformat": 4,
 "nbformat_minor": 2
}
