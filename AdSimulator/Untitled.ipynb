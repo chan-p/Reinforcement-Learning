{
 "cells": [
  {
   "cell_type": "code",
   "execution_count": 16,
   "metadata": {
    "collapsed": true
   },
   "outputs": [],
   "source": [
    "import random\n",
    "\n",
    "class DSP:\n",
    "    def judge_click(self, user, ad):\n",
    "        click_prob = 1.0\n",
    "        for user_context in user.context:\n",
    "            click_prob = click_prob * ad.attribute[user_context]\n",
    "        return 1 if click_prob > random.random() else 0\n",
    "\n",
    "class User:\n",
    "    def __init__(self, context_info):\n",
    "        self.__context_info = context_info\n",
    "        # self.__context_list = self.__get_context()\n",
    "        self.context = []\n",
    "\n",
    "    def __get_context(self):\n",
    "        context_list = []\n",
    "        for context in self.__context_info:\n",
    "            fact = []\n",
    "            for info in context:\n",
    "                fact.append(info[0])\n",
    "            context_list.append(fact)\n",
    "        return context_list\n",
    "    \n",
    "    def __init_context(self):\n",
    "        self.context = []\n",
    "\n",
    "    def generate(self):\n",
    "        self.__init_context()\n",
    "        for context in self.__context_info:\n",
    "            prob = random.randint(0, 100)\n",
    "            value = 0.\n",
    "            for val in context:\n",
    "                value += val[1]\n",
    "                if prob < value:\n",
    "                    self.context.append(val[0])\n",
    "                    break\n",
    "\n",
    "    def return_click(self, ad):\n",
    "        return random.randint(0, 1)\n",
    "\n",
    "class Advertise:\n",
    "    def __init__(self, attribute_info):\n",
    "        self.__attribute_info = attribute_info\n",
    "        self.__attribute = []\n",
    "\n",
    "    def __get_attribute(self):\n",
    "        for info in self.__attribute_info:\n",
    "            print()\n",
    "\n",
    "def run():\n",
    "    user_context = [[(0, 30), (1, 70)]]\n",
    "    ad_attribute = []\n",
    "    user = User(user_context)\n",
    "    ad = AD(ad_attribute)\n",
    "    for index in range(1):\n",
    "        user.generate()\n",
    "        # ad = AD(ad_attribute)"
   ]
  },
  {
   "cell_type": "code",
   "execution_count": 51,
   "metadata": {
    "collapsed": false
   },
   "outputs": [
    {
     "name": "stdout",
     "output_type": "stream",
     "text": [
      "[1]\n"
     ]
    }
   ],
   "source": [
    "run()"
   ]
  }
 ],
 "metadata": {
  "kernelspec": {
   "display_name": "Python 3",
   "language": "python",
   "name": "python3"
  },
  "language_info": {
   "codemirror_mode": {
    "name": "ipython",
    "version": 3
   },
   "file_extension": ".py",
   "mimetype": "text/x-python",
   "name": "python",
   "nbconvert_exporter": "python",
   "pygments_lexer": "ipython3",
   "version": "3.5.2"
  }
 },
 "nbformat": 4,
 "nbformat_minor": 2
}
